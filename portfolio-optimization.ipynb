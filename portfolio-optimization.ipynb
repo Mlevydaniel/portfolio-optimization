{
 "cells": [
  {
   "cell_type": "markdown",
   "metadata": {},
   "source": [
    "## Portfolio Optimization "
   ]
  },
  {
   "cell_type": "markdown",
   "metadata": {},
   "source": [
    "https://pyportfolioopt.readthedocs.io/en/latest/UserGuide.html"
   ]
  },
  {
   "cell_type": "code",
   "execution_count": 1,
   "metadata": {
    "ExecuteTime": {
     "end_time": "2022-08-28T01:31:33.814262Z",
     "start_time": "2022-08-28T01:31:33.212725Z"
    },
    "scrolled": true
   },
   "outputs": [],
   "source": [
    "from pandas_datareader import data as web\n",
    "import pandas as pd\n",
    "import numpy as np\n",
    "from datetime import datetime\n",
    "import matplotlib.pyplot as plt\n",
    "from pprint import pprint\n",
    "\n",
    "#plt.style.use('fivethirtyeight')"
   ]
  },
  {
   "cell_type": "markdown",
   "metadata": {},
   "source": [
    "### Portfolio Analysis"
   ]
  },
  {
   "cell_type": "markdown",
   "metadata": {},
   "source": [
    "#### This first part analyze the stocks and portfolio to have a good idea of its behaviour"
   ]
  },
  {
   "cell_type": "code",
   "execution_count": 2,
   "metadata": {
    "ExecuteTime": {
     "end_time": "2022-08-28T01:31:33.816978Z",
     "start_time": "2022-08-28T01:31:33.815397Z"
    }
   },
   "outputs": [],
   "source": [
    "# Select ETFs of interest\n",
    "assets =  [\"QQQ\", \"SPY\", \"DTD\", \"VNQ\", \"HYG\", \"LQD\", \"BND\"]"
   ]
  },
  {
   "cell_type": "code",
   "execution_count": 3,
   "metadata": {
    "ExecuteTime": {
     "end_time": "2022-08-28T01:31:33.820198Z",
     "start_time": "2022-08-28T01:31:33.818405Z"
    }
   },
   "outputs": [],
   "source": [
    "#Get the stock starting and end date for analysis\n",
    "stockStartDate = '2012-01-01'\n",
    "stockEndDate = '2022-07-01'\n",
    "\n",
    "# Get the stocks ending date aka todays date and format it in the form YYYY-MM-DD\n",
    "today = datetime.today().strftime('%Y-%m-%d')"
   ]
  },
  {
   "cell_type": "code",
   "execution_count": 4,
   "metadata": {
    "ExecuteTime": {
     "end_time": "2022-08-28T01:31:44.299608Z",
     "start_time": "2022-08-28T01:31:33.821836Z"
    }
   },
   "outputs": [
    {
     "data": {
      "text/html": [
       "<div>\n",
       "<style scoped>\n",
       "    .dataframe tbody tr th:only-of-type {\n",
       "        vertical-align: middle;\n",
       "    }\n",
       "\n",
       "    .dataframe tbody tr th {\n",
       "        vertical-align: top;\n",
       "    }\n",
       "\n",
       "    .dataframe thead th {\n",
       "        text-align: right;\n",
       "    }\n",
       "</style>\n",
       "<table border=\"1\" class=\"dataframe\">\n",
       "  <thead>\n",
       "    <tr style=\"text-align: right;\">\n",
       "      <th></th>\n",
       "      <th>QQQ</th>\n",
       "      <th>SPY</th>\n",
       "      <th>DTD</th>\n",
       "      <th>VNQ</th>\n",
       "      <th>HYG</th>\n",
       "      <th>LQD</th>\n",
       "      <th>BND</th>\n",
       "    </tr>\n",
       "    <tr>\n",
       "      <th>Date</th>\n",
       "      <th></th>\n",
       "      <th></th>\n",
       "      <th></th>\n",
       "      <th></th>\n",
       "      <th></th>\n",
       "      <th></th>\n",
       "      <th></th>\n",
       "    </tr>\n",
       "  </thead>\n",
       "  <tbody>\n",
       "    <tr>\n",
       "      <th>2022-08-15</th>\n",
       "      <td>333.059998</td>\n",
       "      <td>428.859985</td>\n",
       "      <td>62.872208</td>\n",
       "      <td>102.129997</td>\n",
       "      <td>78.800003</td>\n",
       "      <td>114.160004</td>\n",
       "      <td>76.379997</td>\n",
       "    </tr>\n",
       "    <tr>\n",
       "      <th>2022-08-16</th>\n",
       "      <td>332.279999</td>\n",
       "      <td>429.700012</td>\n",
       "      <td>63.131599</td>\n",
       "      <td>101.860001</td>\n",
       "      <td>78.430000</td>\n",
       "      <td>113.720001</td>\n",
       "      <td>76.279999</td>\n",
       "    </tr>\n",
       "    <tr>\n",
       "      <th>2022-08-17</th>\n",
       "      <td>328.489990</td>\n",
       "      <td>426.649994</td>\n",
       "      <td>62.892162</td>\n",
       "      <td>101.250000</td>\n",
       "      <td>77.620003</td>\n",
       "      <td>112.650002</td>\n",
       "      <td>75.830002</td>\n",
       "    </tr>\n",
       "    <tr>\n",
       "      <th>2022-08-18</th>\n",
       "      <td>329.279999</td>\n",
       "      <td>427.890015</td>\n",
       "      <td>63.081715</td>\n",
       "      <td>100.580002</td>\n",
       "      <td>77.739998</td>\n",
       "      <td>112.940002</td>\n",
       "      <td>75.970001</td>\n",
       "    </tr>\n",
       "    <tr>\n",
       "      <th>2022-08-19</th>\n",
       "      <td>322.859985</td>\n",
       "      <td>422.140015</td>\n",
       "      <td>62.662704</td>\n",
       "      <td>99.519997</td>\n",
       "      <td>76.949997</td>\n",
       "      <td>111.599998</td>\n",
       "      <td>75.489998</td>\n",
       "    </tr>\n",
       "    <tr>\n",
       "      <th>2022-08-22</th>\n",
       "      <td>314.359985</td>\n",
       "      <td>413.350006</td>\n",
       "      <td>61.685001</td>\n",
       "      <td>97.349998</td>\n",
       "      <td>76.080002</td>\n",
       "      <td>110.849998</td>\n",
       "      <td>75.150002</td>\n",
       "    </tr>\n",
       "    <tr>\n",
       "      <th>2022-08-23</th>\n",
       "      <td>314.100006</td>\n",
       "      <td>412.350006</td>\n",
       "      <td>61.605186</td>\n",
       "      <td>96.099998</td>\n",
       "      <td>76.269997</td>\n",
       "      <td>110.970001</td>\n",
       "      <td>75.120003</td>\n",
       "    </tr>\n",
       "    <tr>\n",
       "      <th>2022-08-24</th>\n",
       "      <td>315.010010</td>\n",
       "      <td>413.670013</td>\n",
       "      <td>61.685001</td>\n",
       "      <td>96.650002</td>\n",
       "      <td>76.360001</td>\n",
       "      <td>110.639999</td>\n",
       "      <td>74.930000</td>\n",
       "    </tr>\n",
       "    <tr>\n",
       "      <th>2022-08-25</th>\n",
       "      <td>320.579987</td>\n",
       "      <td>419.510010</td>\n",
       "      <td>62.389999</td>\n",
       "      <td>98.089996</td>\n",
       "      <td>77.080002</td>\n",
       "      <td>111.779999</td>\n",
       "      <td>75.339996</td>\n",
       "    </tr>\n",
       "    <tr>\n",
       "      <th>2022-08-26</th>\n",
       "      <td>307.440002</td>\n",
       "      <td>405.309998</td>\n",
       "      <td>60.790001</td>\n",
       "      <td>95.620003</td>\n",
       "      <td>75.809998</td>\n",
       "      <td>111.110001</td>\n",
       "      <td>75.190002</td>\n",
       "    </tr>\n",
       "  </tbody>\n",
       "</table>\n",
       "</div>"
      ],
      "text/plain": [
       "                   QQQ         SPY        DTD         VNQ        HYG  \\\n",
       "Date                                                                   \n",
       "2022-08-15  333.059998  428.859985  62.872208  102.129997  78.800003   \n",
       "2022-08-16  332.279999  429.700012  63.131599  101.860001  78.430000   \n",
       "2022-08-17  328.489990  426.649994  62.892162  101.250000  77.620003   \n",
       "2022-08-18  329.279999  427.890015  63.081715  100.580002  77.739998   \n",
       "2022-08-19  322.859985  422.140015  62.662704   99.519997  76.949997   \n",
       "2022-08-22  314.359985  413.350006  61.685001   97.349998  76.080002   \n",
       "2022-08-23  314.100006  412.350006  61.605186   96.099998  76.269997   \n",
       "2022-08-24  315.010010  413.670013  61.685001   96.650002  76.360001   \n",
       "2022-08-25  320.579987  419.510010  62.389999   98.089996  77.080002   \n",
       "2022-08-26  307.440002  405.309998  60.790001   95.620003  75.809998   \n",
       "\n",
       "                   LQD        BND  \n",
       "Date                               \n",
       "2022-08-15  114.160004  76.379997  \n",
       "2022-08-16  113.720001  76.279999  \n",
       "2022-08-17  112.650002  75.830002  \n",
       "2022-08-18  112.940002  75.970001  \n",
       "2022-08-19  111.599998  75.489998  \n",
       "2022-08-22  110.849998  75.150002  \n",
       "2022-08-23  110.970001  75.120003  \n",
       "2022-08-24  110.639999  74.930000  \n",
       "2022-08-25  111.779999  75.339996  \n",
       "2022-08-26  111.110001  75.190002  "
      ]
     },
     "execution_count": 4,
     "metadata": {},
     "output_type": "execute_result"
    }
   ],
   "source": [
    "#Create a dataframe to store the adjusted close price of the stocks\n",
    "df = pd.DataFrame()\n",
    "\n",
    "#Store the adjusted close price of stock into the data frame\n",
    "for stock in assets:\n",
    "        df[stock] = web.DataReader(stock, data_source='yahoo', start=stockStartDate, end=today)['Adj Close']\n",
    "        \n",
    "df.tail(10)"
   ]
  },
  {
   "cell_type": "code",
   "execution_count": 5,
   "metadata": {
    "ExecuteTime": {
     "end_time": "2022-08-28T01:31:44.304606Z",
     "start_time": "2022-08-28T01:31:44.300878Z"
    }
   },
   "outputs": [
    {
     "name": "stdout",
     "output_type": "stream",
     "text": [
      "Stock Weights:  [0.05 0.2  0.2  0.1  0.15 0.15 0.15] \n",
      " Total Weight:  1.0 \n",
      " Number of Stocks:  7\n"
     ]
    },
    {
     "data": {
      "text/plain": [
       "{'QQQ': 0.05,\n",
       " 'SPY': 0.2,\n",
       " 'DTD': 0.2,\n",
       " 'VNQ': 0.1,\n",
       " 'HYG': 0.15,\n",
       " 'LQD': 0.15,\n",
       " 'BND': 0.15}"
      ]
     },
     "execution_count": 5,
     "metadata": {},
     "output_type": "execute_result"
    }
   ],
   "source": [
    "# Assign weights to the stocks. Weights must sum 1\n",
    "weights = np.array([0.05, 0.20, 0.20, 0.1, 0.15, 0.15, 0.15])\n",
    "# weights = np.array([0, 0.20, 0, 0, 0.20, 0, 0.6])\n",
    "\n",
    "\n",
    "print(\n",
    "      \"Stock Weights: \", weights, \"\\n\",\n",
    "      \"Total Weight: \", sum(weights), \"\\n\",\n",
    "      \"Number of Stocks: \", len(weights)\n",
    "     )\n",
    "\n",
    "dict([i for i in zip(assets, weights)])"
   ]
  },
  {
   "cell_type": "code",
   "execution_count": 6,
   "metadata": {
    "ExecuteTime": {
     "end_time": "2022-08-28T01:31:44.421693Z",
     "start_time": "2022-08-28T01:31:44.305371Z"
    }
   },
   "outputs": [
    {
     "data": {
      "image/png": "[encoded data removed]",
      "text/plain": [
       "<Figure size 878.4x576 with 1 Axes>"
      ]
     },
     "metadata": {
      "needs_background": "light"
     },
     "output_type": "display_data"
    }
   ],
   "source": [
    "# Create the title 'Portfolio Adj Close Price History\n",
    "title = 'Portfolio Adj. Close Price History '\n",
    "\n",
    "#Get the stocks\n",
    "my_stocks = df\n",
    "\n",
    "#Create and plot the graph\n",
    "#width = 12.2in, height = 8\n",
    "plt.figure(figsize=(12.2, 8)) \n",
    "\n",
    "# Loop through each stock and plot the Adj Close for each day\n",
    "for c in my_stocks.columns.values:\n",
    "    #plt.plot( X-Axis , Y-Axis, line_width, alpha_for_blending,  label)\n",
    "    plt.plot(my_stocks[c],  label=c)\n",
    "    \n",
    "plt.title(title)\n",
    "plt.xlabel('Date', fontsize=18)\n",
    "plt.ylabel('Adj. Price USD ($)', fontsize=18)\n",
    "plt.legend(my_stocks.columns.values, loc='upper left')\n",
    "plt.show()"
   ]
  },
  {
   "cell_type": "markdown",
   "metadata": {},
   "source": [
    "### Portfolio Descriptive Statistics "
   ]
  },
  {
   "cell_type": "code",
   "execution_count": 7,
   "metadata": {
    "ExecuteTime": {
     "end_time": "2022-08-28T01:31:44.425843Z",
     "start_time": "2022-08-28T01:31:44.422968Z"
    },
    "code_folding": [],
    "scrolled": false
   },
   "outputs": [],
   "source": [
    "# Calculate the daily simple returns, NOTE: Formula = new_price/old_price - 1\n",
    "returns = df.pct_change().iloc[1:]"
   ]
  },
  {
   "cell_type": "markdown",
   "metadata": {
    "ExecuteTime": {
     "end_time": "2022-08-28T01:10:13.392499Z",
     "start_time": "2022-08-28T01:10:13.388230Z"
    }
   },
   "source": [
    "**Expected portfolio daily mean return**"
   ]
  },
  {
   "cell_type": "code",
   "execution_count": 8,
   "metadata": {
    "ExecuteTime": {
     "end_time": "2022-08-28T01:31:44.430534Z",
     "start_time": "2022-08-28T01:31:44.427972Z"
    }
   },
   "outputs": [],
   "source": [
    "portfolioSimpleAnnualReturn = np.sum(returns.mean() * weights) * 252"
   ]
  },
  {
   "cell_type": "markdown",
   "metadata": {},
   "source": [
    "####  Expected portfolio variance & volatility\n",
    "\n",
    "Expected portfolio variance = W' * (Covariance Matrix) * W\n",
    "\n",
    "Expected portfolio volatility = SQRT (WT * (Covariance Matrix) * W)"
   ]
  },
  {
   "cell_type": "code",
   "execution_count": 9,
   "metadata": {
    "ExecuteTime": {
     "end_time": "2022-08-28T01:31:44.436174Z",
     "start_time": "2022-08-28T01:31:44.432420Z"
    }
   },
   "outputs": [],
   "source": [
    "cov_matrix_annual = returns.cov() * 252\n",
    "\n",
    "port_variance = np.dot(weights.T, np.dot(cov_matrix_annual, weights))\n",
    "\n",
    "port_volatility = np.sqrt(port_variance)"
   ]
  },
  {
   "cell_type": "markdown",
   "metadata": {},
   "source": [
    "**Summary** "
   ]
  },
  {
   "cell_type": "code",
   "execution_count": 10,
   "metadata": {
    "ExecuteTime": {
     "end_time": "2022-08-28T01:31:44.439997Z",
     "start_time": "2022-08-28T01:31:44.437099Z"
    },
    "scrolled": true
   },
   "outputs": [
    {
     "name": "stdout",
     "output_type": "stream",
     "text": [
      "Expected annual return : 8.6%\n",
      "Annual volatility/standard deviation/risk : 10.299999999999999%\n",
      "Annual variance : 1.0999999999999999%\n"
     ]
    }
   ],
   "source": [
    "percent_var = str(round(port_variance, 3) * 100) + '%'\n",
    "percent_vols = str(round(port_volatility, 3) * 100) + '%'\n",
    "percent_ret = str(round(portfolioSimpleAnnualReturn, 3) * 100) + '%'\n",
    "\n",
    "print(\"Expected annual return : \" + percent_ret)\n",
    "print('Annual volatility/standard deviation/risk : ' + percent_vols)\n",
    "print('Annual variance : ' + percent_var)"
   ]
  },
  {
   "cell_type": "markdown",
   "metadata": {
    "ExecuteTime": {
     "end_time": "2022-08-27T23:55:54.214764Z",
     "start_time": "2022-08-27T23:55:54.211097Z"
    }
   },
   "source": [
    "**Yearly performance**\n",
    "\n",
    "Calculates portfolio's daily performance and its cumulative annual return"
   ]
  },
  {
   "cell_type": "code",
   "execution_count": 11,
   "metadata": {
    "ExecuteTime": {
     "end_time": "2022-08-28T01:31:44.446452Z",
     "start_time": "2022-08-28T01:31:44.441037Z"
    }
   },
   "outputs": [],
   "source": [
    "# get returns\n",
    "returns = df.pct_change().iloc[1:]\n",
    "\n",
    "# portfolio's daily returns\n",
    "returns = (returns * weights).sum(axis=1) + 1\n",
    "returns = returns.reset_index()\n",
    "returns['year'] = returns.Date.dt.year\n",
    "returns.drop('Date', axis=1, inplace=True)\n",
    "\n",
    "returns.columns = ['portfolio', 'year']"
   ]
  },
  {
   "cell_type": "code",
   "execution_count": 12,
   "metadata": {
    "ExecuteTime": {
     "end_time": "2022-08-28T01:31:44.456513Z",
     "start_time": "2022-08-28T01:31:44.447408Z"
    }
   },
   "outputs": [
    {
     "data": {
      "text/html": [
       "<div>\n",
       "<style scoped>\n",
       "    .dataframe tbody tr th:only-of-type {\n",
       "        vertical-align: middle;\n",
       "    }\n",
       "\n",
       "    .dataframe tbody tr th {\n",
       "        vertical-align: top;\n",
       "    }\n",
       "\n",
       "    .dataframe thead th {\n",
       "        text-align: right;\n",
       "    }\n",
       "</style>\n",
       "<table border=\"1\" class=\"dataframe\">\n",
       "  <thead>\n",
       "    <tr style=\"text-align: right;\">\n",
       "      <th></th>\n",
       "      <th>portfolio</th>\n",
       "    </tr>\n",
       "    <tr>\n",
       "      <th>year</th>\n",
       "      <th></th>\n",
       "    </tr>\n",
       "  </thead>\n",
       "  <tbody>\n",
       "    <tr>\n",
       "      <th>2012</th>\n",
       "      <td>11.52</td>\n",
       "    </tr>\n",
       "    <tr>\n",
       "      <th>2013</th>\n",
       "      <td>13.60</td>\n",
       "    </tr>\n",
       "    <tr>\n",
       "      <th>2014</th>\n",
       "      <td>11.88</td>\n",
       "    </tr>\n",
       "    <tr>\n",
       "      <th>2015</th>\n",
       "      <td>0.09</td>\n",
       "    </tr>\n",
       "    <tr>\n",
       "      <th>2016</th>\n",
       "      <td>10.36</td>\n",
       "    </tr>\n",
       "    <tr>\n",
       "      <th>2017</th>\n",
       "      <td>12.33</td>\n",
       "    </tr>\n",
       "    <tr>\n",
       "      <th>2018</th>\n",
       "      <td>-3.32</td>\n",
       "    </tr>\n",
       "    <tr>\n",
       "      <th>2019</th>\n",
       "      <td>22.73</td>\n",
       "    </tr>\n",
       "    <tr>\n",
       "      <th>2020</th>\n",
       "      <td>10.65</td>\n",
       "    </tr>\n",
       "    <tr>\n",
       "      <th>2021</th>\n",
       "      <td>15.71</td>\n",
       "    </tr>\n",
       "    <tr>\n",
       "      <th>2022</th>\n",
       "      <td>-11.58</td>\n",
       "    </tr>\n",
       "  </tbody>\n",
       "</table>\n",
       "</div>"
      ],
      "text/plain": [
       "      portfolio\n",
       "year           \n",
       "2012      11.52\n",
       "2013      13.60\n",
       "2014      11.88\n",
       "2015       0.09\n",
       "2016      10.36\n",
       "2017      12.33\n",
       "2018      -3.32\n",
       "2019      22.73\n",
       "2020      10.65\n",
       "2021      15.71\n",
       "2022     -11.58"
      ]
     },
     "execution_count": 12,
     "metadata": {},
     "output_type": "execute_result"
    }
   ],
   "source": [
    "# yearly returns\n",
    "yearly_returns = returns.groupby('year', as_index=False).cumprod().join(returns['year'])\n",
    "round((yearly_returns.groupby('year').last() - 1) * 100, 2)"
   ]
  },
  {
   "cell_type": "markdown",
   "metadata": {},
   "source": [
    "The following code calculates the amount of stocks to buy of each type to create the portfolio"
   ]
  },
  {
   "cell_type": "code",
   "execution_count": 13,
   "metadata": {
    "ExecuteTime": {
     "end_time": "2022-08-28T01:31:44.699654Z",
     "start_time": "2022-08-28T01:31:44.457656Z"
    }
   },
   "outputs": [
    {
     "name": "stdout",
     "output_type": "stream",
     "text": [
      "Discrete allocation: {'QQQ': 8, 'SPY': 25, 'DTD': 165, 'VNQ': 52, 'HYG': 99, 'LQD': 67, 'BND': 99}\n",
      "Funds remaining: $11.77\n"
     ]
    }
   ],
   "source": [
    "from pypfopt.discrete_allocation import DiscreteAllocation, get_latest_prices\n",
    "\n",
    "# update the prices and set weights\n",
    "latest_prices = get_latest_prices(df)\n",
    "weights = dict([i for i in zip(assets, weights)])\n",
    "\n",
    "# get the discrete allocation based on the investment\n",
    "da = DiscreteAllocation(weights,\n",
    "                        latest_prices,\n",
    "                        total_portfolio_value=50000\n",
    "                       )\n",
    "\n",
    "allocation, leftover = da.lp_portfolio()\n",
    "\n",
    "print(\"Discrete allocation:\", allocation)\n",
    "print(\"Funds remaining: ${:.2f}\".format(leftover))"
   ]
  },
  {
   "cell_type": "markdown",
   "metadata": {},
   "source": [
    "#### Double check if the sum of the portfolio is lower than the amount available to invest"
   ]
  },
  {
   "cell_type": "code",
   "execution_count": 14,
   "metadata": {
    "ExecuteTime": {
     "end_time": "2022-08-28T01:31:44.702603Z",
     "start_time": "2022-08-28T01:31:44.700597Z"
    },
    "scrolled": true
   },
   "outputs": [
    {
     "name": "stdout",
     "output_type": "stream",
     "text": [
      "Total allocation: 49988.23\n"
     ]
    }
   ],
   "source": [
    "print('Total allocation:', sum([i * j for i, j in zip(allocation.values(), latest_prices)]).round(2))"
   ]
  },
  {
   "cell_type": "markdown",
   "metadata": {},
   "source": [
    "### Portfolio Graphic Evaluation\n",
    "\n",
    "Check visually how it behaves and compare it with S&P500 (Market Index)"
   ]
  },
  {
   "cell_type": "code",
   "execution_count": 15,
   "metadata": {
    "ExecuteTime": {
     "end_time": "2022-08-28T01:31:44.811936Z",
     "start_time": "2022-08-28T01:31:44.703641Z"
    },
    "scrolled": false
   },
   "outputs": [
    {
     "data": {
      "image/png": "[encoded data removed]",
      "text/plain": [
       "<Figure size 878.4x576 with 1 Axes>"
      ]
     },
     "metadata": {
      "needs_background": "light"
     },
     "output_type": "display_data"
    }
   ],
   "source": [
    "weights_array = []\n",
    "for i, j in weights.items():\n",
    "    weights_array.append(j)\n",
    "    \n",
    "portfolio = (df * weights_array).sum(axis=1)\n",
    "\n",
    "# Create the title 'Portfolio Adj Close Price History\n",
    "title = 'Portfolio Adj. Close Price History '\n",
    "\n",
    "#Create and plot the graph\n",
    "#width = 12.2in, height = 8\n",
    "plt.figure(figsize=(12.2, 8)) \n",
    "\n",
    "#plt.plot( X-Axis , Y-Axis, line_width, alpha_for_blending,  label)\n",
    "# plot performance index\n",
    "plt.plot(portfolio / portfolio[0] * 100)\n",
    "plt.plot(df['SPY'] / df['SPY'][0] * 100)\n",
    "    \n",
    "plt.title(title)\n",
    "\n",
    "plt.xlabel('Date', fontsize=18)\n",
    "plt.ylabel('Portfolio Performance (Starting on 100)', fontsize=18)\n",
    "plt.ylim(90, 400)\n",
    "plt.yticks(np.arange(90, 400, step=10))\n",
    "\n",
    "plt.legend(['Portfolio', 'SPY'], loc='upper left')\n",
    "plt.show()"
   ]
  },
  {
   "cell_type": "code",
   "execution_count": 16,
   "metadata": {
    "ExecuteTime": {
     "end_time": "2022-08-28T01:31:44.815862Z",
     "start_time": "2022-08-28T01:31:44.813287Z"
    },
    "scrolled": true
   },
   "outputs": [
    {
     "name": "stdout",
     "output_type": "stream",
     "text": [
      "Returns to date: 0.296\n"
     ]
    }
   ],
   "source": [
    "print('Returns to date:', round(portfolio.iloc[-1] / portfolio.loc['2020-04-24'] - 1 , 3))"
   ]
  },
  {
   "cell_type": "markdown",
   "metadata": {},
   "source": [
    "#### Check its performance: min vs max values, and return since minimum"
   ]
  },
  {
   "cell_type": "code",
   "execution_count": 17,
   "metadata": {
    "ExecuteTime": {
     "end_time": "2022-08-28T01:31:44.819229Z",
     "start_time": "2022-08-28T01:31:44.816824Z"
    }
   },
   "outputs": [
    {
     "name": "stdout",
     "output_type": "stream",
     "text": [
      "-0.67 \n",
      " 1.61\n"
     ]
    }
   ],
   "source": [
    "print(\n",
    "      round(portfolio.min() / portfolio.max() - 1, 2), \"\\n\",\n",
    "      round(portfolio.iloc[-1] / portfolio.min() - 1, 2)\n",
    "     )"
   ]
  },
  {
   "cell_type": "code",
   "execution_count": 18,
   "metadata": {
    "ExecuteTime": {
     "end_time": "2022-08-28T01:31:44.822942Z",
     "start_time": "2022-08-28T01:31:44.820259Z"
    }
   },
   "outputs": [
    {
     "name": "stdout",
     "output_type": "stream",
     "text": [
      "-0.78 \n",
      " 2.88\n"
     ]
    }
   ],
   "source": [
    "print(\n",
    "      round(df['SPY'].min() / df['SPY'].max() -1, 2), \"\\n\",\n",
    "      round(df['SPY'].iloc[-1] / df['SPY'].min()  - 1, 2)\n",
    "     )"
   ]
  },
  {
   "cell_type": "markdown",
   "metadata": {
    "ExecuteTime": {
     "end_time": "2020-04-21T00:10:51.288338Z",
     "start_time": "2020-04-21T00:10:51.269665Z"
    }
   },
   "source": [
    "#### Check correlations \n",
    "\n",
    "The correlation its important to see if the stocks are different between them. A divese portfolio allows to reduce the variance for a same return"
   ]
  },
  {
   "cell_type": "code",
   "execution_count": 19,
   "metadata": {
    "ExecuteTime": {
     "end_time": "2022-08-28T01:31:44.828599Z",
     "start_time": "2022-08-28T01:31:44.823944Z"
    }
   },
   "outputs": [],
   "source": [
    "df.columns = assets\n",
    "assets = df.columns\n",
    "for stock in assets:\n",
    "    df[stock] = (df[stock]/df[stock].shift(1) - 1)"
   ]
  },
  {
   "cell_type": "code",
   "execution_count": 20,
   "metadata": {
    "ExecuteTime": {
     "end_time": "2022-08-28T01:31:44.839421Z",
     "start_time": "2022-08-28T01:31:44.829570Z"
    },
    "scrolled": false
   },
   "outputs": [
    {
     "data": {
      "text/html": [
       "<div>\n",
       "<style scoped>\n",
       "    .dataframe tbody tr th:only-of-type {\n",
       "        vertical-align: middle;\n",
       "    }\n",
       "\n",
       "    .dataframe tbody tr th {\n",
       "        vertical-align: top;\n",
       "    }\n",
       "\n",
       "    .dataframe thead th {\n",
       "        text-align: right;\n",
       "    }\n",
       "</style>\n",
       "<table border=\"1\" class=\"dataframe\">\n",
       "  <thead>\n",
       "    <tr style=\"text-align: right;\">\n",
       "      <th></th>\n",
       "      <th>QQQ</th>\n",
       "      <th>SPY</th>\n",
       "      <th>DTD</th>\n",
       "      <th>VNQ</th>\n",
       "      <th>HYG</th>\n",
       "      <th>LQD</th>\n",
       "      <th>BND</th>\n",
       "    </tr>\n",
       "  </thead>\n",
       "  <tbody>\n",
       "    <tr>\n",
       "      <th>QQQ</th>\n",
       "      <td>1.00</td>\n",
       "      <td>0.92</td>\n",
       "      <td>0.81</td>\n",
       "      <td>0.60</td>\n",
       "      <td>0.67</td>\n",
       "      <td>0.18</td>\n",
       "      <td>0.03</td>\n",
       "    </tr>\n",
       "    <tr>\n",
       "      <th>SPY</th>\n",
       "      <td>0.92</td>\n",
       "      <td>1.00</td>\n",
       "      <td>0.96</td>\n",
       "      <td>0.74</td>\n",
       "      <td>0.76</td>\n",
       "      <td>0.19</td>\n",
       "      <td>0.02</td>\n",
       "    </tr>\n",
       "    <tr>\n",
       "      <th>DTD</th>\n",
       "      <td>0.81</td>\n",
       "      <td>0.96</td>\n",
       "      <td>1.00</td>\n",
       "      <td>0.79</td>\n",
       "      <td>0.75</td>\n",
       "      <td>0.18</td>\n",
       "      <td>0.03</td>\n",
       "    </tr>\n",
       "    <tr>\n",
       "      <th>VNQ</th>\n",
       "      <td>0.60</td>\n",
       "      <td>0.74</td>\n",
       "      <td>0.79</td>\n",
       "      <td>1.00</td>\n",
       "      <td>0.67</td>\n",
       "      <td>0.33</td>\n",
       "      <td>0.20</td>\n",
       "    </tr>\n",
       "    <tr>\n",
       "      <th>HYG</th>\n",
       "      <td>0.67</td>\n",
       "      <td>0.76</td>\n",
       "      <td>0.75</td>\n",
       "      <td>0.67</td>\n",
       "      <td>1.00</td>\n",
       "      <td>0.42</td>\n",
       "      <td>0.22</td>\n",
       "    </tr>\n",
       "    <tr>\n",
       "      <th>LQD</th>\n",
       "      <td>0.18</td>\n",
       "      <td>0.19</td>\n",
       "      <td>0.18</td>\n",
       "      <td>0.33</td>\n",
       "      <td>0.42</td>\n",
       "      <td>1.00</td>\n",
       "      <td>0.84</td>\n",
       "    </tr>\n",
       "    <tr>\n",
       "      <th>BND</th>\n",
       "      <td>0.03</td>\n",
       "      <td>0.02</td>\n",
       "      <td>0.03</td>\n",
       "      <td>0.20</td>\n",
       "      <td>0.22</td>\n",
       "      <td>0.84</td>\n",
       "      <td>1.00</td>\n",
       "    </tr>\n",
       "  </tbody>\n",
       "</table>\n",
       "</div>"
      ],
      "text/plain": [
       "      QQQ   SPY   DTD   VNQ   HYG   LQD   BND\n",
       "QQQ  1.00  0.92  0.81  0.60  0.67  0.18  0.03\n",
       "SPY  0.92  1.00  0.96  0.74  0.76  0.19  0.02\n",
       "DTD  0.81  0.96  1.00  0.79  0.75  0.18  0.03\n",
       "VNQ  0.60  0.74  0.79  1.00  0.67  0.33  0.20\n",
       "HYG  0.67  0.76  0.75  0.67  1.00  0.42  0.22\n",
       "LQD  0.18  0.19  0.18  0.33  0.42  1.00  0.84\n",
       "BND  0.03  0.02  0.03  0.20  0.22  0.84  1.00"
      ]
     },
     "execution_count": 20,
     "metadata": {},
     "output_type": "execute_result"
    }
   ],
   "source": [
    "df.dropna().corr(method='pearson', min_periods=1).round(2)"
   ]
  },
  {
   "cell_type": "markdown",
   "metadata": {},
   "source": [
    "### Portfolio using Optimization \n",
    "\n",
    "https://pyportfolioopt.readthedocs.io/en/latest/MeanVariance.html#"
   ]
  },
  {
   "cell_type": "markdown",
   "metadata": {},
   "source": [
    "The following portfolio optimization is used as a reference for calibrating the previous weights. The maximum weight is limited to 15% and seeks to avoid investing all the portfolio in few assets.\n",
    "\n",
    "Since this portfolio is done using historical information, it can only be used as a statistical reference"
   ]
  },
  {
   "cell_type": "code",
   "execution_count": 21,
   "metadata": {
    "ExecuteTime": {
     "end_time": "2022-08-28T01:31:44.842112Z",
     "start_time": "2022-08-28T01:31:44.840401Z"
    }
   },
   "outputs": [],
   "source": [
    "from pypfopt.efficient_frontier import EfficientFrontier\n",
    "from pypfopt import risk_models\n",
    "from pypfopt import expected_returns"
   ]
  },
  {
   "cell_type": "code",
   "execution_count": 22,
   "metadata": {
    "ExecuteTime": {
     "end_time": "2022-08-28T01:31:54.198477Z",
     "start_time": "2022-08-28T01:31:44.843041Z"
    },
    "scrolled": true
   },
   "outputs": [],
   "source": [
    "#Create a dataframe to store the adjusted close price of the stocks\n",
    "df = pd.DataFrame()\n",
    "\n",
    "#Store the adjusted close price of stock into the data frame\n",
    "for stock in assets:\n",
    "        df[stock] = web.DataReader(stock, data_source='yahoo', start=stockStartDate, end=today)['Adj Close']\n",
    "        \n",
    "\n",
    "mu = expected_returns.mean_historical_return(df)#returns.mean() * 252\n",
    "S = risk_models.sample_cov(df) #Get the sample covariance matrix"
   ]
  },
  {
   "cell_type": "code",
   "execution_count": 23,
   "metadata": {
    "ExecuteTime": {
     "end_time": "2022-08-28T01:31:55.224183Z",
     "start_time": "2022-08-28T01:31:54.201914Z"
    }
   },
   "outputs": [
    {
     "name": "stdout",
     "output_type": "stream",
     "text": [
      "Expected annual return: 11.1%\n",
      "Annual volatility: 12.5%\n",
      "Sharpe Ratio: 0.73\n"
     ]
    },
    {
     "data": {
      "text/plain": [
       "OrderedDict([('QQQ', 0.25),\n",
       "             ('SPY', 0.25),\n",
       "             ('DTD', 0.19851),\n",
       "             ('VNQ', 0.0),\n",
       "             ('HYG', 0.0),\n",
       "             ('LQD', 0.25),\n",
       "             ('BND', 0.05149)])"
      ]
     },
     "execution_count": 23,
     "metadata": {},
     "output_type": "execute_result"
    }
   ],
   "source": [
    "ef = EfficientFrontier(mu, S, #gamma=1,\n",
    "                       weight_bounds=(0, 0.25)\n",
    "                      )\n",
    "\n",
    "# Maximize the Sharpe ratio, and get the raw weights\n",
    "weights = ef.max_sharpe()\n",
    "cleaned_weights = ef.clean_weights() \n",
    "\n",
    "# Note the weights may have some rounding error, meaning they may not add up exactly to 1 but should be close\n",
    " \n",
    "ef.portfolio_performance(verbose=True)\n",
    "cleaned_weights"
   ]
  },
  {
   "cell_type": "markdown",
   "metadata": {},
   "source": [
    "#### Portfolio weights with targeted risk"
   ]
  },
  {
   "cell_type": "code",
   "execution_count": 24,
   "metadata": {
    "ExecuteTime": {
     "end_time": "2022-08-28T01:31:55.241052Z",
     "start_time": "2022-08-28T01:31:55.225406Z"
    }
   },
   "outputs": [
    {
     "name": "stdout",
     "output_type": "stream",
     "text": [
      "Expected annual return: 8.5%\n",
      "Annual volatility: 9.0%\n",
      "Sharpe Ratio: 0.72\n",
      "OrderedDict([('QQQ', 0.3), ('SPY', 0.00042), ('DTD', 0.14665), ('VNQ', 0.0), ('HYG', 0.0), ('LQD', 0.25293), ('BND', 0.3)])\n"
     ]
    }
   ],
   "source": [
    "ef = EfficientFrontier(mu, S, weight_bounds=(0, 0.3))\n",
    "\n",
    "ef.efficient_risk(0.09)\n",
    "\n",
    "ef.portfolio_performance(verbose=True)\n",
    "cleaned_weights = ef.clean_weights() \n",
    "print(cleaned_weights)"
   ]
  },
  {
   "cell_type": "markdown",
   "metadata": {},
   "source": [
    "#### Get the number of stocks to buy according the amount to invest"
   ]
  },
  {
   "cell_type": "code",
   "execution_count": 25,
   "metadata": {
    "ExecuteTime": {
     "end_time": "2022-08-28T01:31:55.255159Z",
     "start_time": "2022-08-28T01:31:55.242019Z"
    }
   },
   "outputs": [
    {
     "name": "stdout",
     "output_type": "stream",
     "text": [
      "Discrete allocation: {'QQQ': 49, 'DTD': 120, 'LQD': 114, 'BND': 199}\n",
      "Funds remaining: $11.29\n"
     ]
    }
   ],
   "source": [
    "from pypfopt.discrete_allocation import DiscreteAllocation, get_latest_prices\n",
    "\n",
    "# update the prices and set weights\n",
    "latest_prices = get_latest_prices(df)\n",
    "weights = cleaned_weights \n",
    "\n",
    "# get the discrete allocation based on the investment\n",
    "da = DiscreteAllocation(weights, latest_prices, total_portfolio_value=50000)\n",
    "\n",
    "allocation, leftover = da.lp_portfolio()\n",
    "\n",
    "print(\"Discrete allocation:\", allocation)\n",
    "print(\"Funds remaining: ${:.2f}\".format(leftover))"
   ]
  }
 ],
 "metadata": {
  "hide_input": false,
  "kernelspec": {
   "display_name": "Python 3",
   "language": "python",
   "name": "python3"
  },
  "language_info": {
   "codemirror_mode": {
    "name": "ipython",
    "version": 3
   },
   "file_extension": ".py",
   "mimetype": "text/x-python",
   "name": "python",
   "nbconvert_exporter": "python",
   "pygments_lexer": "ipython3",
   "version": "3.8.2"
  },
  "toc": {
   "base_numbering": 1,
   "nav_menu": {},
   "number_sections": false,
   "sideBar": true,
   "skip_h1_title": false,
   "title_cell": "Table of Contents",
   "title_sidebar": "Contents",
   "toc_cell": false,
   "toc_position": {
    "height": "calc(100% - 180px)",
    "left": "10px",
    "top": "150px",
    "width": "325.43px"
   },
   "toc_section_display": true,
   "toc_window_display": true
  },
  "varInspector": {
   "cols": {
    "lenName": 16,
    "lenType": 16,
    "lenVar": 40
   },
   "kernels_config": {
    "python": {
     "delete_cmd_postfix": "",
     "delete_cmd_prefix": "del ",
     "library": "var_list.py",
     "varRefreshCmd": "print(var_dic_list())"
    },
    "r": {
     "delete_cmd_postfix": ") ",
     "delete_cmd_prefix": "rm(",
     "library": "var_list.r",
     "varRefreshCmd": "cat(var_dic_list()) "
    }
   },
   "types_to_exclude": [
    "module",
    "function",
    "builtin_function_or_method",
    "instance",
    "_Feature"
   ],
   "window_display": false
  }
 },
 "nbformat": 4,
 "nbformat_minor": 4
}
